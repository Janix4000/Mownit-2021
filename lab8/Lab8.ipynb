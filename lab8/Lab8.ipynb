{
 "cells": [
  {
   "cell_type": "markdown",
   "id": "ff51d4b5",
   "metadata": {},
   "source": [
    "# Jan Izydorczyk\n",
    "# Sprawozdanie 7"
   ]
  },
  {
   "cell_type": "code",
   "execution_count": 2,
   "id": "9dc8ea43",
   "metadata": {},
   "outputs": [
    {
     "name": "stdout",
     "output_type": "stream",
     "text": [
      "Wersja Pythona:\n",
      "3.9.4 (tags/v3.9.4:1f2e308, Apr  6 2021, 13:40:21) [MSC v.1928 64 bit (AMD64)]\n",
      "Wersja numpy: 1.20.2\n",
      "Konfiguracja liczb zmiennoprzecinkowych\n",
      "sys.float_info(max=1.7976931348623157e+308, max_exp=1024, max_10_exp=308, min=2.2250738585072014e-308, min_exp=-1021, min_10_exp=-307, dig=15, mant_dig=53, epsilon=2.220446049250313e-16, radix=2, rounds=1)\n"
     ]
    }
   ],
   "source": [
    "from matplotlib import pyplot as plt\n",
    "import math\n",
    "import numpy as np\n",
    "import random\n",
    "import scipy\n",
    "import sys\n",
    "%matplotlib notebook\n",
    "\n",
    "print(\"Wersja Pythona:\")\n",
    "print (sys.version)\n",
    "print(f\"Wersja numpy: {np.__version__}\")\n",
    "print(\"Konfiguracja liczb zmiennoprzecinkowych\")\n",
    "print(sys.float_info)\n",
    "\n",
    "f64 = np.float64\n",
    "f32 = np.float32"
   ]
  },
  {
   "cell_type": "code",
   "execution_count": 73,
   "id": "3439f7d0",
   "metadata": {},
   "outputs": [],
   "source": [
    "from scipy.linalg import lu_factor, lu_solve"
   ]
  },
  {
   "cell_type": "markdown",
   "id": "158e8221",
   "metadata": {},
   "source": [
    "# Zadanie 1"
   ]
  },
  {
   "cell_type": "code",
   "execution_count": null,
   "id": "364bfe25",
   "metadata": {},
   "outputs": [],
   "source": [
    "def eig_(method):\n",
    "    def wrapper(A, b, sol=None, epsilon=None, *args, x_t=None, max_steps=None, epsilons_buf=None,  **kwargs):\n",
    "        A, b = remove_zeros_from_diagonal(A, b)\n",
    "        maxes = np.column_stack((np.max(np.abs(A), axis=1),b))\n",
    "        maxes = np.max(maxes, axis=1).reshape(-1, 1)\n",
    "        A /= maxes\n",
    "        b /= maxes\n",
    "        if x_t is None:\n",
    "            x_t = np.random.rand(*b.shape)\n",
    "        else:\n",
    "            x_t = np.copy(x_t)\n",
    "        def pred(x,steps):\n",
    "            nonlocal epsilon, sol\n",
    "            res = False\n",
    "            if sol is not None and epsilon is not None:\n",
    "                res =  not np.allclose(x, sol, atol=epsilon)\n",
    "            elif max_steps is not None:\n",
    "                res = steps < max_steps\n",
    "            if res and sol is not None and epsilons_buf is not None:\n",
    "                epsilons_buf.append(np.mean(np.abs(x - sol)))\n",
    "            return res\n",
    "        return method(A, b, sol, epsilon, *args, x_t=x_t, max_steps=max_steps, epsilons_buf=epsilons_buf, pred=pred, **kwargs)\n",
    "    return wrapperdef solver_(method):\n",
    "    def wrapper(A, b, sol=None, epsilon=None, *args, x_t=None, max_steps=None, epsilons_buf=None,  **kwargs):\n",
    "        A, b = remove_zeros_from_diagonal(A, b)\n",
    "        maxes = np.column_stack((np.max(np.abs(A), axis=1),b))\n",
    "        maxes = np.max(maxes, axis=1).reshape(-1, 1)\n",
    "        A /= maxes\n",
    "        b /= maxes\n",
    "        if x_t is None:\n",
    "            x_t = np.random.rand(*b.shape)\n",
    "        else:\n",
    "            x_t = np.copy(x_t)\n",
    "        def pred(x,steps):\n",
    "            nonlocal epsilon, sol\n",
    "            res = False\n",
    "            if sol is not None and epsilon is not None:\n",
    "                res =  not np.allclose(x, sol, atol=epsilon)\n",
    "            elif max_steps is not None:\n",
    "                res = steps < max_steps\n",
    "            if res and sol is not None and epsilons_buf is not None:\n",
    "                epsilons_buf.append(np.mean(np.abs(x - sol)))\n",
    "            return res\n",
    "        return method(A, b, sol, epsilon, *args, x_t=x_t, max_steps=max_steps, epsilons_buf=epsilons_buf, pred=pred, **kwargs)\n",
    "    return wrapper"
   ]
  },
  {
   "cell_type": "markdown",
   "id": "2ca77cb2",
   "metadata": {},
   "source": [
    "## Metoda potęgowa"
   ]
  },
  {
   "cell_type": "code",
   "execution_count": 105,
   "id": "fb1414d9",
   "metadata": {},
   "outputs": [],
   "source": [
    "def eig_(method):\n",
    "    def wrapper(M, *args, x_0=None, epsilon=None, max_steps=None, **kwargs):\n",
    "        \n",
    "        def pred(x_t1, x_t, steps):\n",
    "            nonlocal max_steps, epsilon\n",
    "            if epsilon is not None:\n",
    "                if steps > 2e4:\n",
    "                    print('Overflow')\n",
    "                    print('----')\n",
    "                    print(np.linalg.norm(x_t1 - x_t))\n",
    "                    return False\n",
    "                return np.linalg.norm(x_t1 - x_t) > epsilon and np.linalg.norm(x_t1 + x_t) > epsilon\n",
    "            elif max_steps is not None:\n",
    "                return steps < max_steps\n",
    "            else:\n",
    "                return False\n",
    "            \n",
    "        if x_0 is None:\n",
    "            x_0 = np.random.rand(M.shape[0], 1)\n",
    "        else:\n",
    "            x_0 = np.copy(x_0)\n",
    "            \n",
    "        return method(M, *args, x_0=x_0, epsilon=epsilon, max_steps=max_steps, pred=pred, **kwargs)\n",
    "    return wrapper"
   ]
  },
  {
   "cell_type": "code",
   "execution_count": 106,
   "id": "a27cbf70",
   "metadata": {},
   "outputs": [],
   "source": [
    "@eig_\n",
    "def power_method(M, x_0=None, epsilon=None, max_steps=None, pred=None):\n",
    "    x_t = x_0\n",
    "    steps = 0\n",
    "    x = x_t + 2\n",
    "    \n",
    "    while pred(x_t, x, steps):\n",
    "        steps += 1\n",
    "        x = x_t\n",
    "        x_t = M @ x_t\n",
    "        idx = np.argmax(np.abs(x_t))\n",
    "        max_val = x_t[idx, 0]\n",
    "        x_t /= max_val\n",
    "    return max_val, x_t / np.linalg.norm(x_t)\n",
    "        "
   ]
  },
  {
   "cell_type": "code",
   "execution_count": 107,
   "id": "5a096d26",
   "metadata": {},
   "outputs": [],
   "source": [
    "def rand_symm(N):\n",
    "    M = np.random.rand(N, N)\n",
    "    return (M + M.T) / 2"
   ]
  },
  {
   "cell_type": "code",
   "execution_count": 108,
   "id": "36ce2ac4",
   "metadata": {},
   "outputs": [
    {
     "name": "stdout",
     "output_type": "stream",
     "text": [
      "[[0.75545675 0.28732318 0.62540451 0.63543743]\n",
      " [0.28732318 0.4473667  0.37764237 0.27239405]\n",
      " [0.62540451 0.37764237 0.56999861 0.51449393]\n",
      " [0.63543743 0.27239405 0.51449393 0.17733435]]\n",
      "1.9224998588377684\n",
      "[0.61989084 0.3431946  0.55043845 0.44155443]\n",
      "\n",
      "1.922492554708524\n",
      "[0.61989082 0.34319428 0.55043834 0.44155486]\n"
     ]
    }
   ],
   "source": [
    "M = rand_symm(4)\n",
    "print(M)\n",
    "\n",
    "own_eig, own_qig_vec = power_method(M, epsilon=1e-5)\n",
    "np_eig, np_eig_vec = np.linalg.eig(M)\n",
    "np_eig, np_eig_vec = np_eig[0], np_eig_vec[:, 0]\n",
    "\n",
    "print(own_eig)\n",
    "print(own_qig_vec.flatten())\n",
    "\n",
    "\n",
    "print()\n",
    "print(np_eig)\n",
    "print(np_eig_vec.flatten())\n"
   ]
  },
  {
   "cell_type": "code",
   "execution_count": 109,
   "id": "6567ac4b",
   "metadata": {},
   "outputs": [],
   "source": [
    "@eig_\n",
    "def inv_power_method(M, sigma, x_0=None, epsilon=None, max_steps=None, pred=None):\n",
    "    x_t = x_0\n",
    "    steps = 0\n",
    "    x = x_t + 2\n",
    "    \n",
    "    M = (M - np.eye(M.shape[0]) * sigma)\n",
    "    lu, piv = lu_factor(M)\n",
    "    while pred(x_t, x, steps):\n",
    "        steps += 1\n",
    "        x = np.copy(x_t)\n",
    "        x_t = lu_solve((lu, piv), x_t)\n",
    "        max_val = np.linalg.norm(x_t, ord=np.inf)\n",
    "        x_t /= max_val\n",
    "    return 1 / max_val + sigma, x_t / np.linalg.norm(x_t)"
   ]
  },
  {
   "cell_type": "code",
   "execution_count": 110,
   "id": "5ea64afe",
   "metadata": {},
   "outputs": [
    {
     "name": "stdout",
     "output_type": "stream",
     "text": [
      "[[0.75517109 0.6582062  0.43968271 0.25315517]\n",
      " [0.6582062  0.22443669 0.06092191 0.63891043]\n",
      " [0.43968271 0.06092191 0.12702539 0.27221548]\n",
      " [0.25315517 0.63891043 0.27221548 0.19305966]]\n",
      "\n",
      "1.6129436175404515\n",
      "[0.67938621 0.52619231 0.29865991 0.41516056]\n",
      "\n",
      "1.6129434175404493\n",
      "[0.67938621 0.52619231 0.29865991 0.41516056]\n"
     ]
    }
   ],
   "source": [
    "M = rand_symm(4)\n",
    "print(M)\n",
    "print()\n",
    "\n",
    "np_eig, np_eig_vec = np.linalg.eig(M)\n",
    "np_eig, np_eig_vec = np_eig[0], np_eig_vec[:, 0]\n",
    "\n",
    "own_eig, own_qig_vec = inv_power_method(M, sigma=np_eig + 1e-7, epsilon=1e-3)\n",
    "\n",
    "print(own_eig)\n",
    "print(own_qig_vec.flatten())\n",
    "\n",
    "\n",
    "print()\n",
    "print(np_eig)\n",
    "print(np_eig_vec.flatten())"
   ]
  },
  {
   "cell_type": "code",
   "execution_count": null,
   "id": "f3541c57",
   "metadata": {},
   "outputs": [],
   "source": []
  },
  {
   "cell_type": "code",
   "execution_count": null,
   "id": "5d09a558",
   "metadata": {},
   "outputs": [],
   "source": [
    "@eig_\n",
    "def inv_power_method_with_rayleigh(M, sigma, x_0=None, epsilon=None, max_steps=None, pred=None):\n",
    "    x_t = x_0\n",
    "    steps = 0\n",
    "    x = x_t + 2\n",
    "    \n",
    "    M = (M - np.eye(M.shape[0]) * sigma)\n",
    "    lu, piv = lu_factor(M)\n",
    "    while pred(x_t, x, steps):\n",
    "        steps += 1\n",
    "        x = np.copy(x_t)\n",
    "        x_t = lu_solve((lu, piv), x_t)\n",
    "        max_val = np.linalg.norm(x_t, ord=np.inf)\n",
    "        x_t /= max_val\n",
    "    return 1 / max_val + sigma, x_t / np.linalg.norm(x_t)"
   ]
  },
  {
   "cell_type": "code",
   "execution_count": null,
   "id": "95cc945c",
   "metadata": {},
   "outputs": [],
   "source": []
  }
 ],
 "metadata": {
  "kernelspec": {
   "display_name": "Python 3",
   "language": "python",
   "name": "python3"
  },
  "language_info": {
   "codemirror_mode": {
    "name": "ipython",
    "version": 3
   },
   "file_extension": ".py",
   "mimetype": "text/x-python",
   "name": "python",
   "nbconvert_exporter": "python",
   "pygments_lexer": "ipython3",
   "version": "3.9.4"
  }
 },
 "nbformat": 4,
 "nbformat_minor": 5
}
